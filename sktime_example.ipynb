{
 "cells": [
  {
   "cell_type": "code",
   "execution_count": 1,
   "metadata": {},
   "outputs": [],
   "source": [
    "import warnings\n",
    "\n",
    "warnings.filterwarnings(\"ignore\")"
   ]
  },
  {
   "cell_type": "markdown",
   "metadata": {},
   "source": [
    "#### Dataset"
   ]
  },
  {
   "cell_type": "code",
   "execution_count": 2,
   "metadata": {},
   "outputs": [],
   "source": [
    "# get data to use the model on\n",
    "from sklearn.datasets import load_iris\n",
    "from sklearn.model_selection import train_test_split\n",
    "\n",
    "X, y = load_iris(return_X_y=True, as_frame=True)\n",
    "random_seed = 60\n",
    "X_train, X_test, y_train, y_test = train_test_split(X, y, random_state=random_seed)"
   ]
  },
  {
   "cell_type": "code",
   "execution_count": null,
   "metadata": {},
   "outputs": [
    {
     "data": {
      "text/html": [
       "<div>\n",
       "<style scoped>\n",
       "    .dataframe tbody tr th:only-of-type {\n",
       "        vertical-align: middle;\n",
       "    }\n",
       "\n",
       "    .dataframe tbody tr th {\n",
       "        vertical-align: top;\n",
       "    }\n",
       "\n",
       "    .dataframe thead th {\n",
       "        text-align: right;\n",
       "    }\n",
       "</style>\n",
       "<table border=\"1\" class=\"dataframe\">\n",
       "  <thead>\n",
       "    <tr style=\"text-align: right;\">\n",
       "      <th></th>\n",
       "      <th>sepal length (cm)</th>\n",
       "      <th>sepal width (cm)</th>\n",
       "      <th>petal length (cm)</th>\n",
       "      <th>petal width (cm)</th>\n",
       "    </tr>\n",
       "  </thead>\n",
       "  <tbody>\n",
       "    <tr>\n",
       "      <th>59</th>\n",
       "      <td>5.2</td>\n",
       "      <td>2.7</td>\n",
       "      <td>3.9</td>\n",
       "      <td>1.4</td>\n",
       "    </tr>\n",
       "    <tr>\n",
       "      <th>52</th>\n",
       "      <td>6.9</td>\n",
       "      <td>3.1</td>\n",
       "      <td>4.9</td>\n",
       "      <td>1.5</td>\n",
       "    </tr>\n",
       "    <tr>\n",
       "      <th>108</th>\n",
       "      <td>6.7</td>\n",
       "      <td>2.5</td>\n",
       "      <td>5.8</td>\n",
       "      <td>1.8</td>\n",
       "    </tr>\n",
       "    <tr>\n",
       "      <th>36</th>\n",
       "      <td>5.5</td>\n",
       "      <td>3.5</td>\n",
       "      <td>1.3</td>\n",
       "      <td>0.2</td>\n",
       "    </tr>\n",
       "    <tr>\n",
       "      <th>134</th>\n",
       "      <td>6.1</td>\n",
       "      <td>2.6</td>\n",
       "      <td>5.6</td>\n",
       "      <td>1.4</td>\n",
       "    </tr>\n",
       "  </tbody>\n",
       "</table>\n",
       "</div>"
      ],
      "text/plain": [
       "     sepal length (cm)  sepal width (cm)  petal length (cm)  petal width (cm)\n",
       "59                 5.2               2.7                3.9               1.4\n",
       "52                 6.9               3.1                4.9               1.5\n",
       "108                6.7               2.5                5.8               1.8\n",
       "36                 5.5               3.5                1.3               0.2\n",
       "134                6.1               2.6                5.6               1.4"
      ]
     },
     "execution_count": 5,
     "metadata": {},
     "output_type": "execute_result"
    }
   ],
   "source": [
    "# --- Input data (unterschieden zwischen train und test) ---\n",
    "X_train.head()"
   ]
  },
  {
   "cell_type": "code",
   "execution_count": 8,
   "metadata": {},
   "outputs": [
    {
     "data": {
      "text/plain": [
       "59     1\n",
       "52     1\n",
       "108    2\n",
       "36     0\n",
       "134    2\n",
       "Name: target, dtype: int32"
      ]
     },
     "execution_count": 8,
     "metadata": {},
     "output_type": "execute_result"
    }
   ],
   "source": [
    "# --- Output data ---\n",
    "y_train.head()"
   ]
  },
  {
   "cell_type": "markdown",
   "metadata": {},
   "source": [
    "#### Classification"
   ]
  },
  {
   "cell_type": "markdown",
   "metadata": {},
   "source": [
    "`SVC` steht für C-Support Vector Classification. Dafür wird ein `gamma` und `C` übergeben.\n",
    "\n",
    "- `gamma` bestimmt, wie weit eine Trainingsdata das Modell anpassen kann\n",
    "\n",
    "\n",
    "- `C` Bestrafung für Fehler (d.h wenn `C` klein ist, dann ist die Fehlertoleranz groß und wenn `C` groß ist, dann ist die Fehlertoleranz **der Trainingsdaten** klein, aber Overfitting geschieht schnell)"
   ]
  },
  {
   "cell_type": "code",
   "execution_count": null,
   "metadata": {},
   "outputs": [],
   "source": [
    "from sklearn.svm import SVC\n",
    "# => SVC (=C-Support Vector Classification)\n",
    "\n",
    "clf = SVC(gamma=0.001, C=100.0)"
   ]
  },
  {
   "cell_type": "code",
   "execution_count": null,
   "metadata": {},
   "outputs": [],
   "source": [
    "from sklearn.ensemble import RandomForestClassifier\n"
   ]
  },
  {
   "cell_type": "code",
   "execution_count": null,
   "metadata": {},
   "outputs": [
    {
     "name": "stdout",
     "output_type": "stream",
     "text": [
      "✓ 1 1\n",
      "✓ 1 1\n",
      "✓ 1 1\n",
      "✓ 0 0\n",
      "✓ 1 1\n",
      "✓ 0 0\n",
      "✓ 1 1\n",
      "✓ 0 0\n",
      "✓ 0 0\n",
      "x  1 2\n",
      "✓ 0 0\n",
      "✓ 0 0\n",
      "✓ 2 2\n",
      "✓ 1 1\n",
      "✓ 2 2\n",
      "✓ 1 1\n",
      "✓ 2 2\n",
      "✓ 1 1\n",
      "✓ 0 0\n",
      "✓ 2 2\n",
      "✓ 2 2\n",
      "✓ 0 0\n",
      "x  1 2\n",
      "✓ 0 0\n",
      "✓ 0 0\n",
      "✓ 0 0\n",
      "✓ 0 0\n",
      "✓ 1 1\n",
      "x  2 1\n",
      "✓ 0 0\n",
      "✓ 2 2\n",
      "✓ 1 1\n",
      "✓ 2 2\n",
      "✓ 0 0\n",
      "✓ 0 0\n",
      "✓ 0 0\n",
      "✓ 1 1\n",
      "✓ 0 0\n",
      "92.10526 %\n"
     ]
    }
   ],
   "source": [
    "clf.fit(X_train, y_train)\n",
    "y_test_pred = clf.predict(X_test)\n",
    "\n",
    "true = 0\n",
    "\n",
    "for pred, actuall in zip(y_test_pred, y_test.values):\n",
    "    if pred == actuall: print(\"✓\", end=\" \")\n",
    "    else: print(\"x \", end=\" \")\n",
    "\n",
    "    if pred == actuall: true += 1\n",
    "\n",
    "    print(pred, actuall)\n",
    "\n",
    "print(round(true / len(y_test_pred) * 100, 5), \"%\")"
   ]
  }
 ],
 "metadata": {
  "kernelspec": {
   "display_name": "sktime-dev",
   "language": "python",
   "name": "python3"
  },
  "language_info": {
   "codemirror_mode": {
    "name": "ipython",
    "version": 3
   },
   "file_extension": ".py",
   "mimetype": "text/x-python",
   "name": "python",
   "nbconvert_exporter": "python",
   "pygments_lexer": "ipython3",
   "version": "3.11.11"
  }
 },
 "nbformat": 4,
 "nbformat_minor": 2
}
